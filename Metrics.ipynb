{
 "cells": [
  {
   "cell_type": "markdown",
   "id": "8b48667c-52dd-432b-a746-34fd016410f8",
   "metadata": {},
   "source": [
    "## Portfolio manager"
   ]
  },
  {
   "cell_type": "code",
   "execution_count": 13,
   "id": "3b362475-7aff-4d87-969a-1169db4cd2ce",
   "metadata": {},
   "outputs": [
    {
     "name": "stdout",
     "output_type": "stream",
     "text": [
      "Fetched Prices: {'BTC': 84417, 'ETH': 1939.77, 'DOGE': 0.175962, 'SOL': 135.14, 'ADA': 0.752097, 'OKB': 46.98, 'USDT': 1.0, 'AGIX': 0.228085}\n",
      "Portfolio 1 Total Value: $95976.37 USDT\n",
      "Portfolio 2 Total Value: $95944.52 USDT\n",
      "AI Portfolio performed better! 31.85$\n"
     ]
    }
   ],
   "source": [
    "import json\n",
    "import requests\n",
    "\n",
    "# Mapping portfolio symbols to CoinGecko API IDs\n",
    "COINGECKO_IDS = {\n",
    "    \"BTC\": \"bitcoin\",\n",
    "    \"ETH\": \"ethereum\",\n",
    "    \"DOGE\": \"dogecoin\",\n",
    "    \"SOL\": \"solana\",\n",
    "    \"ADA\": \"cardano\",\n",
    "    \"OKB\": \"okb\",\n",
    "    \"USDT\": \"tether\",\n",
    "    \"AGIX\": \"singularitynet\"\n",
    "}\n",
    "\n",
    "def fetch_crypto_prices():\n",
    "    url = \"https://api.coingecko.com/api/v3/simple/price\"\n",
    "    params = {\n",
    "        \"ids\": \",\".join(COINGECKO_IDS.values()),  # Use mapped CoinGecko IDs\n",
    "        \"vs_currencies\": \"usd\"\n",
    "    }\n",
    "    response = requests.get(url, params=params)\n",
    "    data = response.json()\n",
    "    \n",
    "    # Convert CoinGecko response back to portfolio symbols\n",
    "    prices = {symbol: data.get(COINGECKO_IDS[symbol], {}).get(\"usd\", 0) for symbol in COINGECKO_IDS}\n",
    "    \n",
    "    print(\"Fetched Prices:\", prices)  # Debug: Check fetched prices\n",
    "    return prices\n",
    "\n",
    "def calculate_portfolio_value(portfolio, prices):\n",
    "    total_value = 0\n",
    "    for asset in portfolio[\"assets\"]:\n",
    "        symbol = asset[\"symbol\"]\n",
    "        quantity = asset[\"quantity\"]\n",
    "        price = prices.get(symbol, 0)  # Get price, default to 0 if not found\n",
    "        total_value += quantity * price\n",
    "    return total_value\n",
    "\n",
    "# Example input JSON (replace with actual JSON data)\n",
    "data = {\n",
    "    \"portfolio1\": {\n",
    "        \"currency\": \"USDT\",\n",
    "        \"assets\": [\n",
    "            {\"symbol\": \"BTC\", \"quantity\": 1.01190024},\n",
    "            {\"symbol\": \"OKB\", \"quantity\": 100},\n",
    "            {\"symbol\": \"ETH\", \"quantity\": 1},\n",
    "            {\"symbol\": \"DOGE\", \"quantity\": 8626.95585954},\n",
    "            {\"symbol\": \"SOL\", \"quantity\": 7.50619828},\n",
    "            {\"symbol\": \"ADA\", \"quantity\": 1348.542108},\n",
    "            {\"symbol\": \"USDT\", \"quantity\": 300.0004958},\n",
    "            {\"symbol\": \"AGIX\", \"quantity\": 308.562129}\n",
    "        ]\n",
    "    },\n",
    "    \"portfolio2\": {\n",
    "        \"currency\": \"USDT\",\n",
    "        \"assets\": [\n",
    "            {\"symbol\": \"BTC\", \"quantity\": 1},\n",
    "            {\"symbol\": \"OKB\", \"quantity\": 100},\n",
    "            {\"symbol\": \"USDT\", \"quantity\": 3300.0000509},\n",
    "            {\"symbol\": \"ETH\", \"quantity\": 1},\n",
    "            {\"symbol\": \"ADA\", \"quantity\": 1348.542108},\n",
    "            {\"symbol\": \"DOGE\", \"quantity\": 2870.6896547},\n",
    "            {\"symbol\": \"AGIX\", \"quantity\": 308.562129}\n",
    "        ]\n",
    "    }\n",
    "}\n",
    "\n",
    "# Fetch live prices\n",
    "prices = fetch_crypto_prices()\n",
    "\n",
    "# Calculate values for both portfolios\n",
    "portfolio1_value = calculate_portfolio_value(data[\"portfolio1\"], prices)\n",
    "portfolio2_value = calculate_portfolio_value(data[\"portfolio2\"], prices)\n",
    "\n",
    "# Output results for both portfolios\n",
    "print(f\"Portfolio 1 Total Value: ${portfolio1_value:.2f} USDT\")\n",
    "print(f\"Portfolio 2 Total Value: ${portfolio2_value:.2f} USDT\")\n",
    "\n",
    "# Determine which portfolio performed better\n",
    "if portfolio1_value > portfolio2_value:\n",
    "    print(f\"AI Portfolio performed better! {portfolio1_value - portfolio2_value:.2f}$\")\n",
    "elif portfolio2_value > portfolio1_value:\n",
    "    print(f\"Portfolio 2 performed worse! -{portfolio1_value - portfolio2_value:.2f}$\")\n",
    "else:\n",
    "    print(\"Both portfolios have the same value!\")\n"
   ]
  },
  {
   "cell_type": "code",
   "execution_count": null,
   "id": "64396aed-ea53-426a-9afc-9d333a93920b",
   "metadata": {},
   "outputs": [],
   "source": []
  },
  {
   "cell_type": "code",
   "execution_count": null,
   "id": "633346a5-d400-486d-b2d8-ed59f8b46ec0",
   "metadata": {},
   "outputs": [],
   "source": []
  }
 ],
 "metadata": {
  "kernelspec": {
   "display_name": "Python 3 (ipykernel)",
   "language": "python",
   "name": "python3"
  },
  "language_info": {
   "codemirror_mode": {
    "name": "ipython",
    "version": 3
   },
   "file_extension": ".py",
   "mimetype": "text/x-python",
   "name": "python",
   "nbconvert_exporter": "python",
   "pygments_lexer": "ipython3",
   "version": "3.10.9"
  }
 },
 "nbformat": 4,
 "nbformat_minor": 5
}
